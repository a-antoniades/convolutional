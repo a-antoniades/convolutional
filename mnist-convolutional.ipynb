{
  "nbformat": 4,
  "nbformat_minor": 0,
  "metadata": {
    "colab": {
      "name": "mnist.ipynb",
      "provenance": []
    },
    "kernelspec": {
      "name": "python3",
      "display_name": "Python 3"
    },
    "accelerator": "GPU"
  },
  "cells": [
    {
      "cell_type": "code",
      "metadata": {
        "id": "4Ewu8kjyllrx",
        "colab_type": "code",
        "colab": {}
      },
      "source": [
        "import torch\n",
        "import torch.nn as nn\n",
        "import torch.nn.functional as F\n",
        "import torch.optim as optim\n",
        "from torchvision import datasets,transforms\n",
        "from torch.autograd import Variable\n",
        "import matplotlib.pyplot as plt\n",
        "%matplotlib inline"
      ],
      "execution_count": 0,
      "outputs": []
    },
    {
      "cell_type": "code",
      "metadata": {
        "id": "l59mTnBYlqDt",
        "colab_type": "code",
        "colab": {}
      },
      "source": [
        "is_cuda=False\n",
        "if torch.cuda.is_available():\n",
        "    is_cuda = True"
      ],
      "execution_count": 0,
      "outputs": []
    },
    {
      "cell_type": "code",
      "metadata": {
        "id": "29qxRDIBltCm",
        "colab_type": "code",
        "colab": {}
      },
      "source": [
        "transformation = transforms.Compose([transforms.ToTensor(),transforms.Normalize((0.1307,), (0.3081,))])\n",
        "\n",
        "train_dataset = datasets.MNIST('data/',train=True,transform=transformation,download=True)\n",
        "test_dataset = datasets.MNIST('data/',train=False,transform=transformation,download=True)\n",
        "\n",
        "train_loader = torch.utils.data.DataLoader(train_dataset,batch_size=32,shuffle=True)\n",
        "test_loader = torch.utils.data.DataLoader(test_dataset,batch_size=32,shuffle=True)\n",
        "\n",
        "sample_data = next(iter(train_loader))"
      ],
      "execution_count": 0,
      "outputs": []
    },
    {
      "cell_type": "code",
      "metadata": {
        "id": "MEO0XO9ul2Gu",
        "colab_type": "code",
        "colab": {}
      },
      "source": [
        "sample_data = next(iter(train_loader))"
      ],
      "execution_count": 0,
      "outputs": []
    },
    {
      "cell_type": "code",
      "metadata": {
        "id": "zMfRCEJAl4r5",
        "colab_type": "code",
        "colab": {}
      },
      "source": [
        "def plot_img(image):\n",
        "    image = image.numpy()[0]\n",
        "    mean = 0.1307\n",
        "    std = 0.3081\n",
        "    image = ((mean * image) + std)\n",
        "    plt.imshow(image,cmap='inferno')\n"
      ],
      "execution_count": 0,
      "outputs": []
    },
    {
      "cell_type": "code",
      "metadata": {
        "id": "UAk1TDH3l7Dz",
        "colab_type": "code",
        "outputId": "153b3485-8e1e-4259-c659-4b928b6aab6e",
        "colab": {
          "base_uri": "https://localhost:8080/",
          "height": 265
        }
      },
      "source": [
        "plot_img(sample_data[0][2])"
      ],
      "execution_count": 0,
      "outputs": [
        {
          "output_type": "display_data",
          "data": {
            "image/png": "[encoded data removed]",
            "text/plain": [
              "<Figure size 432x288 with 1 Axes>"
            ]
          },
          "metadata": {
            "tags": []
          }
        }
      ]
    },
    {
      "cell_type": "code",
      "metadata": {
        "id": "_94ww8VAmBez",
        "colab_type": "code",
        "colab": {}
      },
      "source": [
        "class Net(nn.Module):\n",
        "    def __init__(self):\n",
        "        super().__init__()\n",
        "        self.conv1 = nn.Conv2d(1, 10, kernel_size=5)\n",
        "        self.conv2 = nn.Conv2d(10, 20, kernel_size=5)\n",
        "        self.conv2_drop = nn.Dropout2d()\n",
        "        self.fc1 = nn.Linear(320, 50)\n",
        "        self.fc2 = nn.Linear(50, 10)\n",
        "\n",
        "    def forward(self, x):\n",
        "        x = F.relu(F.max_pool2d(self.conv1(x), 2))\n",
        "        x = F.relu(F.max_pool2d(self.conv2_drop(self.conv2(x)), 2))\n",
        "        x = x.view(-1, 320)\n",
        "        x = F.relu(self.fc1(x))\n",
        "        #x = F.dropout(x,p=0.1, training=self.training)\n",
        "        x = self.fc2(x)\n",
        "        return F.log_softmax(x,dim=1)"
      ],
      "execution_count": 0,
      "outputs": []
    },
    {
      "cell_type": "code",
      "metadata": {
        "id": "XnHsvlW7mDWD",
        "colab_type": "code",
        "colab": {}
      },
      "source": [
        "model = Net()\n",
        "if is_cuda:\n",
        "    model.cuda()"
      ],
      "execution_count": 0,
      "outputs": []
    },
    {
      "cell_type": "code",
      "metadata": {
        "id": "f9vQAyd9mGyd",
        "colab_type": "code",
        "colab": {}
      },
      "source": [
        "optimizer = optim.SGD(model.parameters(),lr=0.01)"
      ],
      "execution_count": 0,
      "outputs": []
    },
    {
      "cell_type": "code",
      "metadata": {
        "id": "yePqXmESmJJn",
        "colab_type": "code",
        "colab": {}
      },
      "source": [
        "data , target = next(iter(train_loader))\n",
        "output = model(data.cuda().clone().detach())"
      ],
      "execution_count": 0,
      "outputs": []
    },
    {
      "cell_type": "code",
      "metadata": {
        "id": "ILjtrCxqmMN2",
        "colab_type": "code",
        "outputId": "f99775ad-cc10-4f5e-8b7e-cd5e64ac6400",
        "colab": {
          "base_uri": "https://localhost:8080/",
          "height": 34
        }
      },
      "source": [
        "output.size()\n",
        "target.size()"
      ],
      "execution_count": 0,
      "outputs": [
        {
          "output_type": "execute_result",
          "data": {
            "text/plain": [
              "torch.Size([32])"
            ]
          },
          "metadata": {
            "tags": []
          },
          "execution_count": 77
        }
      ]
    },
    {
      "cell_type": "code",
      "metadata": {
        "id": "df_yz_cFmgXA",
        "colab_type": "code",
        "colab": {}
      },
      "source": [
        "def fit(epoch,model,data_loader,phase='training'):\n",
        "    if phase == 'training':\n",
        "        model.train()\n",
        "    if phase == 'validation':\n",
        "        model.eval()\n",
        "    running_loss = 0.0\n",
        "    running_correct = 0\n",
        "    for batch_idx , (data,target) in enumerate(data_loader):\n",
        "        if is_cuda:\n",
        "            data,target = data.cuda(),target.cuda()\n",
        "        data , target = torch.tensor(data, requires_grad=True),torch.tensor(target)\n",
        "        if phase == 'training':\n",
        "            optimizer.zero_grad()\n",
        "        output = model(data)\n",
        "        loss = F.nll_loss(output,target)\n",
        "        \n",
        "        running_loss += F.nll_loss(output,target,size_average=False).data\n",
        "        preds = output.data.max(dim=1,keepdim=True)[1]\n",
        "        running_correct += preds.eq(target.data.view_as(preds)).cpu().sum()\n",
        "        if phase == 'training':\n",
        "            loss.backward()\n",
        "            optimizer.step()\n",
        "    \n",
        "    loss = running_loss/len(data_loader.dataset)\n",
        "    accuracy = 100. * running_correct/len(data_loader.dataset)\n",
        "    \n",
        "    print(f'{phase} loss is {loss:{5}.{2}} and {phase} accuracy is {running_correct}/{len(data_loader.dataset)}{accuracy:{10}.{4}}')\n",
        "    return loss,accuracy"
      ],
      "execution_count": 0,
      "outputs": []
    },
    {
      "cell_type": "code",
      "metadata": {
        "id": "C7yXk5cmmk8U",
        "colab_type": "code",
        "outputId": "df7d78e3-61f5-48e1-b766-ad301c83fb86",
        "colab": {
          "base_uri": "https://localhost:8080/",
          "height": 751
        }
      },
      "source": [
        "train_losses , train_accuracy = [],[]\n",
        "val_losses , val_accuracy = [],[]\n",
        "for epoch in range(1,20):\n",
        "    epoch_loss, epoch_accuracy = fit(epoch,model,train_loader,phase='training')\n",
        "    val_epoch_loss , val_epoch_accuracy = fit(epoch,model,test_loader,phase='validation')\n",
        "    train_losses.append(epoch_loss)\n",
        "    train_accuracy.append(epoch_accuracy)\n",
        "    val_losses.append(val_epoch_loss)\n",
        "    val_accuracy.append(val_epoch_accuracy)"
      ],
      "execution_count": 0,
      "outputs": [
        {
          "output_type": "stream",
          "text": [
            "/usr/local/lib/python3.6/dist-packages/ipykernel_launcher.py:12: UserWarning: To copy construct from a tensor, it is recommended to use sourceTensor.clone().detach() or sourceTensor.clone().detach().requires_grad_(True), rather than torch.tensor(sourceTensor).\n",
            "  if sys.path[0] == '':\n",
            "/usr/local/lib/python3.6/dist-packages/torch/nn/_reduction.py:43: UserWarning: size_average and reduce args will be deprecated, please use reduction='sum' instead.\n",
            "  warnings.warn(warning.format(ret))\n"
          ],
          "name": "stderr"
        },
        {
          "output_type": "stream",
          "text": [
            "training loss is  0.59 and training accuracy is 48843/60000      81.4\n",
            "validation loss is  0.14 and validation accuracy is 9570/10000      95.7\n",
            "training loss is  0.18 and training accuracy is 56840/60000     94.73\n",
            "validation loss is 0.079 and validation accuracy is 9753/10000     97.53\n",
            "training loss is  0.14 and training accuracy is 57427/60000     95.71\n",
            "validation loss is 0.067 and validation accuracy is 9771/10000     97.71\n",
            "training loss is  0.13 and training accuracy is 57803/60000     96.34\n",
            "validation loss is 0.058 and validation accuracy is 9811/10000     98.11\n",
            "training loss is  0.11 and training accuracy is 58074/60000     96.79\n",
            "validation loss is 0.053 and validation accuracy is 9817/10000     98.17\n",
            "training loss is   0.1 and training accuracy is 58178/60000     96.96\n",
            "validation loss is 0.051 and validation accuracy is 9827/10000     98.27\n",
            "training loss is 0.096 and training accuracy is 58335/60000     97.22\n",
            "validation loss is 0.041 and validation accuracy is 9868/10000     98.68\n",
            "training loss is 0.088 and training accuracy is 58428/60000     97.38\n",
            "validation loss is 0.039 and validation accuracy is 9867/10000     98.67\n",
            "training loss is 0.082 and training accuracy is 58553/60000     97.59\n",
            "validation loss is 0.037 and validation accuracy is 9874/10000     98.74\n",
            "training loss is 0.078 and training accuracy is 58628/60000     97.71\n",
            "validation loss is 0.036 and validation accuracy is 9871/10000     98.71\n",
            "training loss is 0.073 and training accuracy is 58721/60000     97.87\n",
            "validation loss is 0.036 and validation accuracy is 9882/10000     98.82\n",
            "training loss is 0.071 and training accuracy is 58725/60000     97.88\n",
            "validation loss is 0.034 and validation accuracy is 9893/10000     98.93\n",
            "training loss is 0.068 and training accuracy is 58802/60000      98.0\n",
            "validation loss is  0.03 and validation accuracy is 9904/10000     99.04\n",
            "training loss is 0.064 and training accuracy is 58854/60000     98.09\n",
            "validation loss is  0.03 and validation accuracy is 9890/10000      98.9\n",
            "training loss is 0.062 and training accuracy is 58873/60000     98.12\n",
            "validation loss is 0.029 and validation accuracy is 9901/10000     99.01\n",
            "training loss is 0.062 and training accuracy is 58888/60000     98.15\n",
            "validation loss is 0.029 and validation accuracy is 9906/10000     99.06\n",
            "training loss is  0.06 and training accuracy is 58936/60000     98.23\n",
            "validation loss is 0.029 and validation accuracy is 9903/10000     99.03\n",
            "training loss is 0.057 and training accuracy is 59029/60000     98.38\n",
            "validation loss is 0.029 and validation accuracy is 9907/10000     99.07\n",
            "training loss is 0.055 and training accuracy is 59017/60000     98.36\n",
            "validation loss is 0.028 and validation accuracy is 9905/10000     99.05\n"
          ],
          "name": "stdout"
        }
      ]
    },
    {
      "cell_type": "code",
      "metadata": {
        "id": "ExPzN_uUWXsu",
        "colab_type": "code",
        "outputId": "4916be7a-60e9-43bc-a540-f6dcdeb9da81",
        "colab": {
          "base_uri": "https://localhost:8080/",
          "height": 282
        }
      },
      "source": [
        "# plot results\n",
        "plt.plot(range(1, len(train_losses) + 1), train_losses, 'bo', label = 'training loss')\n",
        "plt.plot(range(1, len(val_losses)+1), val_losses,'r',label = 'validation loss')\n",
        "plt.legend()\n",
        "\n",
        "plt.plot(range(1, len(train_accuracy)+1), train_accuracy, 'bo', label = 'Train accuracy')\n",
        "plt.plot(range(1, len(val_accuracy)+1), val_accuracy, 'r', label = 'val accuracy')\n",
        "plt.legend() \n"
      ],
      "execution_count": 0,
      "outputs": [
        {
          "output_type": "execute_result",
          "data": {
            "text/plain": [
              "<matplotlib.legend.Legend at 0x7f8d914f2b38>"
            ]
          },
          "metadata": {
            "tags": []
          },
          "execution_count": 82
        },
        {
          "output_type": "display_data",
          "data": {
            "image/png": "[encoded data removed]",
            "text/plain": [
              "<Figure size 432x288 with 1 Axes>"
            ]
          },
          "metadata": {
            "tags": []
          }
        }
      ]
    }
  ]
}